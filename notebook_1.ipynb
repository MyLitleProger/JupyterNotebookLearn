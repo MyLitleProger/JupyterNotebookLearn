{
 "cells": [
  {
   "cell_type": "markdown",
   "id": "a31c66a4",
   "metadata": {},
   "source": [
    "# Урок 1. Оформление ноутбука и закрепление функций и генераторов"
   ]
  },
  {
   "cell_type": "markdown",
   "id": "2d7ca6b0",
   "metadata": {},
   "source": [
    "## Условие 1:\n",
    "\n",
    "Оформляйте ноутбук, используя эти советы:\n",
    "\n",
    "Номер задачи - заголовок 2\n",
    "\n",
    "Номер подзадачи - заголовок 3\n",
    "\n",
    "Предоставленные наборы данных оформляйте, как код\n",
    "\n",
    "Рекомендации для преподавателей по оценке задания:\n",
    "\n",
    "Смотреть, чтобы студент красиво оформлял ноутбук, использовал ячейки с текстом, указывал номера заданий"
   ]
  },
  {
   "cell_type": "markdown",
   "id": "c12f5ddf",
   "metadata": {},
   "source": [
    "## Условие 2:\n",
    "На складе лежат разные фрукты в разном количестве.\n",
    "\n",
    "Нужно написать функцию, которая на вход принимает любое количество названий фруктов и их количество, а возвращает общее количество фруктов на складе"
   ]
  },
  {
   "cell_type": "code",
   "execution_count": 1,
   "id": "64be1da8",
   "metadata": {},
   "outputs": [],
   "source": [
    "def count_fruit(fruit_dict: dict) -> int:\n",
    "    result = 0\n",
    "    for i in fruit_dict.values():\n",
    "        result += i\n",
    "    return result"
   ]
  },
  {
   "cell_type": "code",
   "execution_count": 2,
   "id": "09b35745",
   "metadata": {},
   "outputs": [
    {
     "data": {
      "text/plain": [
       "{'aple': 40, 'orange': 100, 'lemon': 95}"
      ]
     },
     "execution_count": 2,
     "metadata": {},
     "output_type": "execute_result"
    }
   ],
   "source": [
    "warehouse_dict = {'aple': 40,\n",
    "                 'orange': 100,\n",
    "                 'lemon': 95}\n",
    "warehouse_dict"
   ]
  },
  {
   "cell_type": "code",
   "execution_count": 3,
   "id": "da3856bf",
   "metadata": {},
   "outputs": [
    {
     "data": {
      "text/plain": [
       "235"
      ]
     },
     "execution_count": 3,
     "metadata": {},
     "output_type": "execute_result"
    }
   ],
   "source": [
    "count_fruit(warehouse_dict)"
   ]
  },
  {
   "cell_type": "markdown",
   "id": "187f1813",
   "metadata": {},
   "source": [
    "## Условие 3:\n",
    "Дан список с затратами на рекламу. Но в данных есть ошибки, некоторые затраты имеют отрицательную величину. Удалите такие значения из списка и посчитайте суммарные затраты"
   ]
  },
  {
   "cell_type": "code",
   "execution_count": 4,
   "id": "48f9fe66",
   "metadata": {},
   "outputs": [],
   "source": [
    "advertising_costs_list = [100, 125, -90, 345, 655, -1, 0, 200]"
   ]
  },
  {
   "cell_type": "markdown",
   "id": "3bbc454c",
   "metadata": {},
   "source": [
    "Используйте list comprehensions"
   ]
  },
  {
   "cell_type": "code",
   "execution_count": 5,
   "id": "5025ec47",
   "metadata": {},
   "outputs": [
    {
     "data": {
      "text/plain": [
       "[100, 125, 345, 655, 200]"
      ]
     },
     "execution_count": 5,
     "metadata": {},
     "output_type": "execute_result"
    }
   ],
   "source": [
    "[i for i in advertising_costs_list if i > 0]"
   ]
  },
  {
   "cell_type": "markdown",
   "id": "989b90d8",
   "metadata": {},
   "source": [
    "## Условие 4:\n",
    "\n",
    "Даны два списка.\n",
    "\n",
    "Дата покупки"
   ]
  },
  {
   "cell_type": "code",
   "execution_count": 6,
   "id": "6ae24328",
   "metadata": {},
   "outputs": [],
   "source": [
    "date_list = ['2021-09-14', '2021-12-15', '2021-09-08', '2021-12-05', '2021-10-09', \n",
    "                        '2021-09-30', '2021-12-22', '2021-11-29', '2021-12-24', '2021-11-26', \n",
    "                        '2021-10-27', '2021-12-18', '2021-11-09', '2021-11-23', '2021-09-27', \n",
    "                        '2021-10-02', '2021-12-27', '2021-09-20', '2021-12-13', '2021-11-01', \n",
    "                        '2021-11-09', '2021-12-06', '2021-12-08', '2021-10-09', '2021-10-31', \n",
    "                        '2021-09-30', '2021-11-09', '2021-12-13', '2021-10-26', '2021-12-09']"
   ]
  },
  {
   "cell_type": "markdown",
   "id": "0774fc7a",
   "metadata": {},
   "source": [
    "Суммы покупок по датам"
   ]
  },
  {
   "cell_type": "code",
   "execution_count": 7,
   "id": "e3b8de93",
   "metadata": {},
   "outputs": [],
   "source": [
    "money_list = [1270, 8413, 9028, 3703, 5739, 4095, 295, 4944, 5723, 3701, 4471, 651, 7037, \n",
    "                        4274, 6275, 4988, 6930, 2971, 6592, 2004, 2822, 519, 3406, 2732, 5015, 2008, \n",
    "                        316, 6333, 5700, 2887]"
   ]
  },
  {
   "cell_type": "markdown",
   "id": "6c269de4",
   "metadata": {},
   "source": [
    "### 4.1 Найдите, какая выручка у компании в ноябре\n",
    "\n",
    "Используйте list comprehensions"
   ]
  },
  {
   "cell_type": "code",
   "execution_count": 8,
   "id": "3bc114d0",
   "metadata": {},
   "outputs": [
    {
     "data": {
      "text/plain": [
       "25098"
      ]
     },
     "execution_count": 8,
     "metadata": {},
     "output_type": "execute_result"
    }
   ],
   "source": [
    "sum(money_list[i] for i in range(len(date_list)) if '-11-' in date_list[i])"
   ]
  },
  {
   "cell_type": "markdown",
   "id": "6ef54e7c",
   "metadata": {},
   "source": [
    "### 4.2 Найдите выручку компании в зависимости от месяца\n",
    "\n",
    "Для этого напишите функцию, которая на вход принимает список с датами и список с выручкой, а на выходе словарь, где ключи - это месяцы, а значения - это выручка.\n",
    "\n",
    "Используйте аннотирование типов."
   ]
  },
  {
   "cell_type": "code",
   "execution_count": 9,
   "id": "adc9be4b",
   "metadata": {},
   "outputs": [],
   "source": [
    "def revenue(date: list, money: list) -> dict:\n",
    "    dict_dm = {}\n",
    "    for d, m in zip(date, money):\n",
    "        if d[5:7] in dict_dm.keys():\n",
    "            dict_dm[d[5:7]] = dict_dm[d[5:7]] + m\n",
    "        else:\n",
    "            dict_dm[d[5:7]] = m\n",
    "    return dict_dm"
   ]
  },
  {
   "cell_type": "code",
   "execution_count": 10,
   "id": "d94a1c37",
   "metadata": {},
   "outputs": [
    {
     "data": {
      "text/plain": [
       "{'09': 25647, '12': 45452, '10': 28645, '11': 25098}"
      ]
     },
     "execution_count": 10,
     "metadata": {},
     "output_type": "execute_result"
    }
   ],
   "source": [
    "revenue(date_list, money_list)"
   ]
  }
 ],
 "metadata": {
  "kernelspec": {
   "display_name": "Python 3 (ipykernel)",
   "language": "python",
   "name": "python3"
  },
  "language_info": {
   "codemirror_mode": {
    "name": "ipython",
    "version": 3
   },
   "file_extension": ".py",
   "mimetype": "text/x-python",
   "name": "python",
   "nbconvert_exporter": "python",
   "pygments_lexer": "ipython3",
   "version": "3.10.9"
  }
 },
 "nbformat": 4,
 "nbformat_minor": 5
}
